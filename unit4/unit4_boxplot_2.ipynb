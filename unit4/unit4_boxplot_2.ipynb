{
 "cells": [
  {
   "cell_type": "code",
   "execution_count": 7,
   "metadata": {},
   "outputs": [
    {
     "data": {
      "image/png": "[encoded data removed]",
      "text/plain": "<Figure size 432x288 with 1 Axes>"
     },
     "metadata": {
      "needs_background": "light"
     },
     "output_type": "display_data"
    },
    {
     "name": "stdout",
     "output_type": "stream",
     "text": [
      "maxtemp, maxdate :  39.6   2018-08-01\n"
     ]
    }
   ],
   "source": [
    "import csv\r\n",
    "\r\n",
    "f = open('..\\seoul.csv')\r\n",
    "data = csv.reader(f)\r\n",
    "next(data)\r\n",
    "daytemp = []\r\n",
    "maxtemp = -999.0\r\n",
    "maxdate = ''\r\n",
    "for i in range(0, 31) :\r\n",
    "\tdaytemp.append([])\r\n",
    "for row in data :\r\n",
    "\tif row[-1] != '' and row[0].split('-')[1] == '08':\r\n",
    "\t\tsplitdata = row[0].split('-')[2]\r\n",
    "\t\tdaytemp[int(splitdata) - 1].append(float(row[-1]))\r\n",
    "\t\tif (maxtemp < float(row[-1])) : \r\n",
    "\t\t\t\tmaxtemp = float(row[-1])\r\n",
    "\t\t\t\tmaxdate = row[0]\r\n",
    "\r\n",
    "import matplotlib.pyplot as plt\r\n",
    "plt.boxplot(daytemp)\r\n",
    "plt.show()\r\n",
    "\r\n",
    "print('maxtemp, maxdate : ', maxtemp, ' ', maxdate)"
   ]
  },
  {
   "cell_type": "code",
   "execution_count": null,
   "metadata": {},
   "outputs": [],
   "source": []
  }
 ],
 "metadata": {
  "kernelspec": {
   "display_name": "Python 3.8.1 32-bit",
   "metadata": {
    "interpreter": {
     "hash": "36e270301eb7c9c9dd3b447de05e2ffb65516765379b64c455b75302d5c2feb2"
    }
   },
   "name": "python3"
  },
  "language_info": {
   "codemirror_mode": {
    "name": "ipython",
    "version": 3
   },
   "file_extension": ".py",
   "mimetype": "text/x-python",
   "name": "python",
   "nbconvert_exporter": "python",
   "pygments_lexer": "ipython3",
   "version": "3.8.1"
  },
  "orig_nbformat": 2
 },
 "nbformat": 4,
 "nbformat_minor": 2
}