{
 "metadata": {
  "language_info": {
   "codemirror_mode": {
    "name": "ipython",
    "version": 3
   },
   "file_extension": ".py",
   "mimetype": "text/x-python",
   "name": "python",
   "nbconvert_exporter": "python",
   "pygments_lexer": "ipython3",
   "version": "3.8.1-final"
  },
  "orig_nbformat": 2,
  "kernelspec": {
   "name": "python3",
   "display_name": "Python 3.8.1 32-bit",
   "metadata": {
    "interpreter": {
     "hash": "36e270301eb7c9c9dd3b447de05e2ffb65516765379b64c455b75302d5c2feb2"
    }
   }
  }
 },
 "nbformat": 4,
 "nbformat_minor": 2,
 "cells": [
  {
   "cell_type": "code",
   "execution_count": 1,
   "metadata": {},
   "outputs": [
    {
     "output_type": "stream",
     "name": "stdout",
     "text": [
      "11496   강남 2호선\n"
     ]
    }
   ],
   "source": [
    "import csv\n",
    "import matplotlib.pyplot as plt \n",
    "f = open('..\\\\public_t_time_utf8.csv', 'r', encoding='utf-8')\n",
    "data = csv.reader(f)\n",
    "next(data), next(data)\n",
    "mx = 0\n",
    "mx_station = ''\n",
    "t = int(input('time'))\n",
    "\n",
    "for row in data :\n",
    "    row[4:] = map(int, row[4 :])\n",
    "    a  = row[4 + (t-4)*2]\n",
    "    if a > mx : \n",
    "        mx = a\n",
    "        mx_station = row[3] + ' ' + row[1]\n",
    "print(mx, ' ', mx_station)"
   ]
  }
 ]
}