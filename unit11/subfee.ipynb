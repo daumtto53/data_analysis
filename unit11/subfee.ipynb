{
 "metadata": {
  "language_info": {
   "codemirror_mode": {
    "name": "ipython",
    "version": 3
   },
   "file_extension": ".py",
   "mimetype": "text/x-python",
   "name": "python",
   "nbconvert_exporter": "python",
   "pygments_lexer": "ipython3",
   "version": "3.8.1-final"
  },
  "orig_nbformat": 2,
  "kernelspec": {
   "name": "python3",
   "display_name": "Python 3.8.1 32-bit",
   "metadata": {
    "interpreter": {
     "hash": "36e270301eb7c9c9dd3b447de05e2ffb65516765379b64c455b75302d5c2feb2"
    }
   }
  }
 },
 "nbformat": 4,
 "nbformat_minor": 2,
 "cells": [
  {
   "cell_type": "code",
   "execution_count": 18,
   "metadata": {
    "tags": []
   },
   "outputs": [
    {
     "output_type": "stream",
     "name": "stdout",
     "text": [
      "서울역 경부선 95.02\n"
     ]
    }
   ],
   "source": [
    "#-*coding:utf-8-*-\n",
    "import csv\n",
    "\n",
    "f = open('..\\\\public_t_utf.csv', 'r', encoding='utf-8')\n",
    "data = csv.reader(f)\n",
    "\n",
    "mx = 0\n",
    "rate = 0\n",
    "mx_station = ''\n",
    "next(data)\n",
    "for row in data :\n",
    "    for i in range(4, 8) :\n",
    "        row[i] = int(row[i])\n",
    "    if row[4] != 0 and row[6] != 0 and (row[4] + row[6] > 10000):\n",
    "        rate = row[4] / (row[4] + row[6])\n",
    "        if rate > mx :\n",
    "            mx = rate\n",
    "            mx_station = row[3] + ' ' + row[1]\n",
    "\n",
    "print(mx_station , round(mx * 100, 2))"
   ]
  }
 ]
}