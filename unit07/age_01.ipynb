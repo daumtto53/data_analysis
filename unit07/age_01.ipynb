{
 "metadata": {
  "language_info": {
   "codemirror_mode": {
    "name": "ipython",
    "version": 3
   },
   "file_extension": ".py",
   "mimetype": "text/x-python",
   "name": "python",
   "nbconvert_exporter": "python",
   "pygments_lexer": "ipython3",
   "version": "3.8.1-final"
  },
  "orig_nbformat": 2,
  "kernelspec": {
   "name": "python3",
   "display_name": "Python 3.8.1 32-bit",
   "metadata": {
    "interpreter": {
     "hash": "36e270301eb7c9c9dd3b447de05e2ffb65516765379b64c455b75302d5c2feb2"
    }
   }
  }
 },
 "nbformat": 4,
 "nbformat_minor": 2,
 "cells": [
  {
   "cell_type": "code",
   "execution_count": 9,
   "metadata": {
    "tags": []
   },
   "outputs": [
    {
     "output_type": "stream",
     "name": "stdout",
     "text": [
      "['경기도 화성시 동탄2동(4159058600)', '35,737', '35,737', '166', '187', '212', '293', '387', '485', '540', '600', '692', '695', '794', '677', '710', '750', '688', '631', '596', '625', '588', '501', '512', '482', '403', '362', '378', '357', '334', '330', '269', '320', '283', '278', '318', '269', '307', '376', '406', '512', '676', '739', '851', '914', '849', '858', '886', '966', '889', '892', '824', '824', '781', '683', '587', '508', '450', '416', '406', '314', '313', '310', '324', '280', '221', '216', '223', '198', '165', '145', '159', '114', '117', '123', '120', '130', '103', '87', '91', '80', '91', '85', '61', '51', '40', '52', '43', '31', '29', '26', '28', '14', '6', '7', '6', '4', '6', '2', '4', '1', '2', '0', '3']\n"
     ]
    }
   ],
   "source": [
    "import csv\n",
    "f = open('..\\\\age.csv')\n",
    "data = csv.reader(f)\n",
    "\n",
    "for row in data :\n",
    "    if '동탄2동' in row[0] :\n",
    "        print(row)"
   ]
  },
  {
   "cell_type": "code",
   "execution_count": null,
   "metadata": {},
   "outputs": [],
   "source": []
  }
 ]
}